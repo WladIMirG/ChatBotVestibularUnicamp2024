{
 "cells": [
  {
   "cell_type": "markdown",
   "metadata": {},
   "source": [
    "## RAG implementation"
   ]
  },
  {
   "cell_type": "markdown",
   "metadata": {},
   "source": [
    "### Preprocess data"
   ]
  },
  {
   "cell_type": "code",
   "execution_count": 1,
   "metadata": {},
   "outputs": [
    {
     "name": "stderr",
     "output_type": "stream",
     "text": [
      "100%|██████████| 422/422 [00:00<00:00, 7472.37it/s]\n"
     ]
    }
   ],
   "source": [
    "import pandas as pd\n",
    "from tqdm import tqdm\n",
    "\n",
    "def generate_UVQuAD(df: pd.DataFrame, output_path: str = \"UVQuAD.csv\"):\n",
    "    \"\"\"Generate UVQuAD from data_raw.csv\"\"\"\n",
    "    new_data = []\n",
    "    for i in tqdm(range(len(df))):\n",
    "        request = eval(df[\"pergunta\"][i])\n",
    "        for p in request[\"perguntas\"]:\n",
    "            # print(request[\"perguntas\"][p])\n",
    "            # print(type(request[\"respostas\"][p]))\n",
    "            new_data.append(\n",
    "                {\n",
    "                    \"title\": df[\"title\"][i],\n",
    "                    \"context\": df[\"context\"][i],\n",
    "                    \"question\": request[\"perguntas\"][p],\n",
    "                    \"answer\": {\n",
    "                        \"text\": list(request[\"respostas\"][p].values()),\n",
    "                        \"answer_start\": [],},\n",
    "                }\n",
    "            )\n",
    "    new_df = pd.DataFrame(new_data)\n",
    "    new_df.to_csv(output_path, index=False)\n",
    "    return new_df\n",
    "\n",
    "# Load data_raw\n",
    "df = pd.read_csv('../data/processed/data_raw.csv')\n",
    "\n",
    "# Generate UVQuAD\n",
    "df = generate_UVQuAD(df, \"../data/processed/UVQuAD.csv\")"
   ]
  },
  {
   "cell_type": "markdown",
   "metadata": {},
   "source": [
    "### Retriever Probe"
   ]
  },
  {
   "cell_type": "code",
   "execution_count": 2,
   "metadata": {},
   "outputs": [
    {
     "name": "stdout",
     "output_type": "stream",
     "text": [
      "Requirement already satisfied: rank_bm25 in /home/wladimir.carrillo/miniconda3/envs/chatbotenv/lib/python3.12/site-packages (0.2.2)\n",
      "Requirement already satisfied: numpy in /home/wladimir.carrillo/miniconda3/envs/chatbotenv/lib/python3.12/site-packages (from rank_bm25) (1.26.1)\n"
     ]
    }
   ],
   "source": [
    "!pip install rank_bm25"
   ]
  },
  {
   "cell_type": "code",
   "execution_count": 3,
   "metadata": {},
   "outputs": [],
   "source": [
    "from langchain.retrievers import BM25Retriever\n"
   ]
  },
  {
   "cell_type": "code",
   "execution_count": 8,
   "metadata": {},
   "outputs": [
    {
     "data": {
      "text/html": [
       "<div>\n",
       "<style scoped>\n",
       "    .dataframe tbody tr th:only-of-type {\n",
       "        vertical-align: middle;\n",
       "    }\n",
       "\n",
       "    .dataframe tbody tr th {\n",
       "        vertical-align: top;\n",
       "    }\n",
       "\n",
       "    .dataframe thead th {\n",
       "        text-align: right;\n",
       "    }\n",
       "</style>\n",
       "<table border=\"1\" class=\"dataframe\">\n",
       "  <thead>\n",
       "    <tr style=\"text-align: right;\">\n",
       "      <th></th>\n",
       "      <th>title</th>\n",
       "      <th>context</th>\n",
       "    </tr>\n",
       "  </thead>\n",
       "  <tbody>\n",
       "    <tr>\n",
       "      <th>0</th>\n",
       "      <td>titulo</td>\n",
       "      <td>Vestibular Unicamp 2024\\nResolução GR-031/2023...</td>\n",
       "    </tr>\n",
       "  </tbody>\n",
       "</table>\n",
       "</div>"
      ],
      "text/plain": [
       "    title                                            context\n",
       "0  titulo  Vestibular Unicamp 2024\\nResolução GR-031/2023..."
      ]
     },
     "execution_count": 8,
     "metadata": {},
     "output_type": "execute_result"
    }
   ],
   "source": [
    "df = pd.read_csv('../data/processed/contextos.csv')\n",
    "df.head(1)"
   ]
  },
  {
   "cell_type": "code",
   "execution_count": 9,
   "metadata": {},
   "outputs": [],
   "source": [
    "retriever = BM25Retriever.from_texts(df['context'].to_list())"
   ]
  },
  {
   "cell_type": "code",
   "execution_count": 10,
   "metadata": {},
   "outputs": [
    {
     "data": {
      "text/plain": [
       "[Document(page_content='Art. 1º Para o ano de 2024 são oferecidas 3340 vagas regulares para ingresso nos Cursos de Graduação da Unicamp distribuídas nos seguintes sistemas de ingresso:\\xa0 I. 2537 vagas oferecidas pelo Vestibular Unicamp (VU) 2024.\\xa0 II. 314 vagas oferecidas pelo Edital ENEM-Unicamp 2024.\\xa0 III. 325 vagas oferecidas pelo Provão Paulista 2024.\\xa0 IV. 49 vagas oferecidas pelo Vestibular Indígena (VI) 2024. O Vestibular Indígena terá ainda 81 vagas adicionais, conforme Edital a ser publicado, respeitando os princípios da Deliberação CONSU-A-032/2017.\\xa0 IV. 115 vagas oferecidas pelo Edital de olimpíadas cientíﬁcas e competições de conhecimento de áreas especíﬁcas. Haverá, ainda, 14 vagas adicionais nesse sistema de ingresso, conforme Edital a ser publicado, respeitando os princípios da Deliberação CONSU-A-032/2017.\\xa0'),\n",
       " Document(page_content='§1º As vagas regulares não preenchidas nos incisos II, III, IV e V serão transferidas para o VU 2024 para que sejam preenchidas as 3340 vagas oferecidas para o ingresso na graduação.'),\n",
       " Document(page_content='Vestibular Unicamp 2024\\nResolução GR-031/2023, de 13/07/2023\\nReitor: Maria Luiza Moretti - Reitora em exercício\\nO Reitor da Universidade Estadual de Campinas, considerando a Deliberação CONSU-A-032/2017 de 21 de novembro de 2017, que especiﬁca sobre os sistemas de ingresso aos Cursos de Graduação da Unicamp, torna pública a Resolução Vestibular Unicamp 2024 para vagas no ensino de Graduação.'),\n",
       " Document(page_content='Art. 6º O ingresso nos Cursos de Graduação por meio do VU 2024 será feito mediante processo classiﬁcatório, com aproveitamento dos(as) candidatos(as) até o limite das vagas ﬁxadas para cada curso, obedecidas as normas da presente Resolução e informadas no Anexo I.')]"
      ]
     },
     "execution_count": 10,
     "metadata": {},
     "output_type": "execute_result"
    }
   ],
   "source": [
    "result = retriever.get_relevant_documents(\"Quantas vagas regulares são oferecidas para ingresso nos Cursos de Graduação da Unicamp em 2024?\")\n",
    "result"
   ]
  },
  {
   "cell_type": "markdown",
   "metadata": {},
   "source": [
    "### Retriever Class"
   ]
  },
  {
   "cell_type": "code",
   "execution_count": 112,
   "metadata": {},
   "outputs": [],
   "source": [
    "from langchain.retrievers import BM25Retriever\n",
    "import pandas as pd\n",
    "\n",
    "class ConvHistory:\n",
    "    def __init__(self):\n",
    "        self.messages = []\n",
    "        self.offset = 0\n",
    "        self.system_message = \"¡Hola! Soy tu chatbot para el Vestibular da Unicamp 2024. ¿En qué puedo ayudarte?\"\n",
    "        \n",
    "    def set_system_message(self, system_message: str):\n",
    "        \"\"\"Set the system message.\"\"\"\n",
    "        self.system_message = system_message\n",
    "\n",
    "    def append_message(self, role: str, message: str):\n",
    "        \"\"\"Append a new message.\"\"\"\n",
    "        self.messages.append([role, message])\n",
    "    \n",
    "    def to_openai_api_messages(self):\n",
    "        \"\"\"Convert the conversation to OpenAI chat completion format.\"\"\"\n",
    "        ret = [{\"role\": \"system\", \"content\": self.system_message}]\n",
    "\n",
    "        for i, (_, msg) in enumerate(self.messages[self.offset :]):\n",
    "            if i % 2 == 0:\n",
    "                ret.append({\"role\": \"user\", \"content\": msg})\n",
    "            else:\n",
    "                if msg is not None:\n",
    "                    ret.append({\"role\": \"assistant\", \"content\": msg})\n",
    "        return ret\n",
    "\n",
    "class GPT3ChatBot:\n",
    "    def __init__(self):\n",
    "        self.model = \"gpt-3.5-turbo\"\n",
    "        self.agent = OpenAI(\n",
    "            api_key= os.getenv(\"OPENAI_API_KEY\"),\n",
    "        )\n",
    "        self.retriever = UVQuADChatBotRetriever()\n",
    "        \n",
    "    def get_answer(self, question: str):\n",
    "        relevant_documents = self.retriever.get_relevant_documents(question)\n",
    "        return relevant_documents[0]\n",
    "    \n",
    "    def get_answer_from_user_input(self, user_input: str):\n",
    "        return self.get_answer(user_input)\n",
    "    \n",
    "    def get_answer_from_conversation(self, conversation: list):\n",
    "        return self.get_answer(conversation)\n",
    "    \n",
    "    def get_answer_from_gpt3(self, question: str):\n",
    "        response = self.agent.chat.completions.create(\n",
    "            model=self.model,\n",
    "            messages=[\n",
    "                {\"role\": \"system\", \"content\": \"Vocé é um chatbot para o Vestibular da Unicamp 2024.\"},\n",
    "            ] + question,\n",
    "        )\n",
    "        return response.choices[0].message.content\n",
    "\n",
    "class UVQuADChatBotRetriever:\n",
    "    def __init__(self):\n",
    "        self.data = pd.read_csv('../data/processed/contextos.csv')\n",
    "        self.from_texts(self.data['context'].to_list())\n",
    "        \n",
    "    def from_texts(self, texts: list):\n",
    "        self.retriever = BM25Retriever.from_texts(texts)\n",
    "        \n",
    "    def get_relevant_documents(self, question: str, n_docs: int = 1):\n",
    "        result = self.retriever.get_relevant_documents(question)\n",
    "        return result\n",
    "    \n",
    "# class UVQuADChatBotRetriever:\n",
    "#     def __init__(self):\n",
    "#         self.data = pd.read_csv('../data/processed/contextos.csv')\n",
    "#         self.from_texts(self.data['context'].to_list())\n",
    "        \n",
    "#     def from_texts(self, texts: list):\n",
    "#         self.retriever = BM25Retriever.from_texts(texts)\n",
    "        \n",
    "#     def get_relevant_documents(self, question: str, n_docs: int = 1):\n",
    "#         result = self.retriever.get_relevant_documents(question)\n",
    "#         return result"
   ]
  },
  {
   "cell_type": "code",
   "execution_count": 111,
   "metadata": {},
   "outputs": [
    {
     "data": {
      "text/plain": [
       "[Document(page_content='Art. 1º Para o ano de 2024 são oferecidas 3340 vagas regulares para ingresso nos Cursos de Graduação da Unicamp distribuídas nos seguintes sistemas de ingresso:\\xa0 I. 2537 vagas oferecidas pelo Vestibular Unicamp (VU) 2024.\\xa0 II. 314 vagas oferecidas pelo Edital ENEM-Unicamp 2024.\\xa0 III. 325 vagas oferecidas pelo Provão Paulista 2024.\\xa0 IV. 49 vagas oferecidas pelo Vestibular Indígena (VI) 2024. O Vestibular Indígena terá ainda 81 vagas adicionais, conforme Edital a ser publicado, respeitando os princípios da Deliberação CONSU-A-032/2017.\\xa0 IV. 115 vagas oferecidas pelo Edital de olimpíadas cientíﬁcas e competições de conhecimento de áreas especíﬁcas. Haverá, ainda, 14 vagas adicionais nesse sistema de ingresso, conforme Edital a ser publicado, respeitando os princípios da Deliberação CONSU-A-032/2017.\\xa0')]"
      ]
     },
     "execution_count": 111,
     "metadata": {},
     "output_type": "execute_result"
    }
   ],
   "source": [
    "q = \"Quantas vagas regulares são oferecidas para ingresso nos Cursos de Graduação da Unicamp em 2024?\"\n",
    "retriever = UVQuADChatBotRetriever()\n",
    "retriever.get_relevant_documents(q)"
   ]
  },
  {
   "cell_type": "code",
   "execution_count": null,
   "metadata": {},
   "outputs": [],
   "source": []
  }
 ],
 "metadata": {
  "kernelspec": {
   "display_name": "chatbotenv",
   "language": "python",
   "name": "python3"
  },
  "language_info": {
   "codemirror_mode": {
    "name": "ipython",
    "version": 3
   },
   "file_extension": ".py",
   "mimetype": "text/x-python",
   "name": "python",
   "nbconvert_exporter": "python",
   "pygments_lexer": "ipython3",
   "version": "3.12.0"
  }
 },
 "nbformat": 4,
 "nbformat_minor": 2
}
