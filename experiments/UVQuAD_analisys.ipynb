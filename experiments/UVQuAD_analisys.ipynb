{
 "cells": [
  {
   "cell_type": "code",
   "execution_count": 1,
   "metadata": {},
   "outputs": [
    {
     "data": {
      "text/html": [
       "<div>\n",
       "<style scoped>\n",
       "    .dataframe tbody tr th:only-of-type {\n",
       "        vertical-align: middle;\n",
       "    }\n",
       "\n",
       "    .dataframe tbody tr th {\n",
       "        vertical-align: top;\n",
       "    }\n",
       "\n",
       "    .dataframe thead th {\n",
       "        text-align: right;\n",
       "    }\n",
       "</style>\n",
       "<table border=\"1\" class=\"dataframe\">\n",
       "  <thead>\n",
       "    <tr style=\"text-align: right;\">\n",
       "      <th></th>\n",
       "      <th>title</th>\n",
       "      <th>context</th>\n",
       "      <th>question</th>\n",
       "      <th>answer</th>\n",
       "    </tr>\n",
       "  </thead>\n",
       "  <tbody>\n",
       "    <tr>\n",
       "      <th>0</th>\n",
       "      <td>titulo</td>\n",
       "      <td>Vestibular Unicamp 2024\\nResolução GR-031/2023...</td>\n",
       "      <td>Quando foi publicada a Resolução Vestibular Un...</td>\n",
       "      <td>{'text': ['13/07/2023'], 'answer_start': []}</td>\n",
       "    </tr>\n",
       "    <tr>\n",
       "      <th>1</th>\n",
       "      <td>titulo</td>\n",
       "      <td>Vestibular Unicamp 2024\\nResolução GR-031/2023...</td>\n",
       "      <td>Quem é o Reitor da Universidade Estadual de Ca...</td>\n",
       "      <td>{'text': ['Maria Luiza Moretti'], 'answer_star...</td>\n",
       "    </tr>\n",
       "    <tr>\n",
       "      <th>2</th>\n",
       "      <td>titulo</td>\n",
       "      <td>Vestibular Unicamp 2024\\nResolução GR-031/2023...</td>\n",
       "      <td>Qual é a finalidade da Resolução Vestibular Un...</td>\n",
       "      <td>{'text': ['Especificar os sistemas de ingresso...</td>\n",
       "    </tr>\n",
       "    <tr>\n",
       "      <th>3</th>\n",
       "      <td>Vagas e sistemas de ingresso à Graduação</td>\n",
       "      <td>Art. 1º Para o ano de 2024 são oferecidas 3340...</td>\n",
       "      <td>Quantas vagas regulares são oferecidas para in...</td>\n",
       "      <td>{'text': ['3340'], 'answer_start': []}</td>\n",
       "    </tr>\n",
       "    <tr>\n",
       "      <th>4</th>\n",
       "      <td>Vagas e sistemas de ingresso à Graduação</td>\n",
       "      <td>Art. 1º Para o ano de 2024 são oferecidas 3340...</td>\n",
       "      <td>Quais são os sistemas de ingresso para os curs...</td>\n",
       "      <td>{'text': ['Vestibular Unicamp (VU) 2024', 'Edi...</td>\n",
       "    </tr>\n",
       "  </tbody>\n",
       "</table>\n",
       "</div>"
      ],
      "text/plain": [
       "                                       title  \\\n",
       "0                                     titulo   \n",
       "1                                     titulo   \n",
       "2                                     titulo   \n",
       "3  Vagas e sistemas de ingresso à Graduação    \n",
       "4  Vagas e sistemas de ingresso à Graduação    \n",
       "\n",
       "                                             context  \\\n",
       "0  Vestibular Unicamp 2024\\nResolução GR-031/2023...   \n",
       "1  Vestibular Unicamp 2024\\nResolução GR-031/2023...   \n",
       "2  Vestibular Unicamp 2024\\nResolução GR-031/2023...   \n",
       "3  Art. 1º Para o ano de 2024 são oferecidas 3340...   \n",
       "4  Art. 1º Para o ano de 2024 são oferecidas 3340...   \n",
       "\n",
       "                                            question  \\\n",
       "0  Quando foi publicada a Resolução Vestibular Un...   \n",
       "1  Quem é o Reitor da Universidade Estadual de Ca...   \n",
       "2  Qual é a finalidade da Resolução Vestibular Un...   \n",
       "3  Quantas vagas regulares são oferecidas para in...   \n",
       "4  Quais são os sistemas de ingresso para os curs...   \n",
       "\n",
       "                                              answer  \n",
       "0       {'text': ['13/07/2023'], 'answer_start': []}  \n",
       "1  {'text': ['Maria Luiza Moretti'], 'answer_star...  \n",
       "2  {'text': ['Especificar os sistemas de ingresso...  \n",
       "3             {'text': ['3340'], 'answer_start': []}  \n",
       "4  {'text': ['Vestibular Unicamp (VU) 2024', 'Edi...  "
      ]
     },
     "execution_count": 1,
     "metadata": {},
     "output_type": "execute_result"
    }
   ],
   "source": [
    "from transformers import GPT2Tokenizer\n",
    "import pandas as pd\n",
    "\n",
    "df = pd.read_csv('UVQuAD.csv')\n",
    "df.head()"
   ]
  },
  {
   "cell_type": "code",
   "execution_count": 3,
   "metadata": {},
   "outputs": [
    {
     "name": "stdout",
     "output_type": "stream",
     "text": [
      "<class 'pandas.core.frame.DataFrame'>\n",
      "RangeIndex: 1270 entries, 0 to 1269\n",
      "Data columns (total 4 columns):\n",
      " #   Column    Non-Null Count  Dtype \n",
      "---  ------    --------------  ----- \n",
      " 0   title     1270 non-null   object\n",
      " 1   context   1270 non-null   object\n",
      " 2   question  1270 non-null   object\n",
      " 3   answer    1270 non-null   object\n",
      "dtypes: object(4)\n",
      "memory usage: 39.8+ KB\n"
     ]
    }
   ],
   "source": [
    "df.info()"
   ]
  },
  {
   "cell_type": "code",
   "execution_count": 39,
   "metadata": {},
   "outputs": [
    {
     "name": "stdout",
     "output_type": "stream",
     "text": [
      "Collecting matplotlib\n",
      "  Downloading matplotlib-3.8.1-cp312-cp312-manylinux_2_17_x86_64.manylinux2014_x86_64.whl.metadata (5.8 kB)\n",
      "Collecting contourpy>=1.0.1 (from matplotlib)\n",
      "  Downloading contourpy-1.2.0-cp312-cp312-manylinux_2_17_x86_64.manylinux2014_x86_64.whl.metadata (5.8 kB)\n",
      "Collecting cycler>=0.10 (from matplotlib)\n",
      "  Downloading cycler-0.12.1-py3-none-any.whl.metadata (3.8 kB)\n",
      "Collecting fonttools>=4.22.0 (from matplotlib)\n",
      "  Downloading fonttools-4.44.0-cp312-cp312-manylinux_2_5_x86_64.manylinux1_x86_64.manylinux_2_17_x86_64.manylinux2014_x86_64.whl.metadata (153 kB)\n",
      "\u001b[2K     \u001b[90m━━━━━━━━━━━━━━━━━━━━━━━━━━━━━━━━━━━━━━━\u001b[0m \u001b[32m153.6/153.6 kB\u001b[0m \u001b[31m3.1 MB/s\u001b[0m eta \u001b[36m0:00:00\u001b[0m00:01\u001b[0m\n",
      "\u001b[?25hCollecting kiwisolver>=1.3.1 (from matplotlib)\n",
      "  Downloading kiwisolver-1.4.5-cp312-cp312-manylinux_2_17_x86_64.manylinux2014_x86_64.whl.metadata (6.4 kB)\n",
      "Requirement already satisfied: numpy<2,>=1.21 in /home/wladimir.carrillo/miniconda3/envs/chatbotenv/lib/python3.12/site-packages (from matplotlib) (1.26.1)\n",
      "Requirement already satisfied: packaging>=20.0 in /home/wladimir.carrillo/miniconda3/envs/chatbotenv/lib/python3.12/site-packages (from matplotlib) (23.2)\n",
      "Requirement already satisfied: pillow>=8 in /home/wladimir.carrillo/miniconda3/envs/chatbotenv/lib/python3.12/site-packages (from matplotlib) (10.1.0)\n",
      "Collecting pyparsing>=2.3.1 (from matplotlib)\n",
      "  Downloading pyparsing-3.1.1-py3-none-any.whl.metadata (5.1 kB)\n",
      "Requirement already satisfied: python-dateutil>=2.7 in /home/wladimir.carrillo/miniconda3/envs/chatbotenv/lib/python3.12/site-packages (from matplotlib) (2.8.2)\n",
      "Requirement already satisfied: six>=1.5 in /home/wladimir.carrillo/miniconda3/envs/chatbotenv/lib/python3.12/site-packages (from python-dateutil>=2.7->matplotlib) (1.16.0)\n",
      "Downloading matplotlib-3.8.1-cp312-cp312-manylinux_2_17_x86_64.manylinux2014_x86_64.whl (11.6 MB)\n",
      "\u001b[2K   \u001b[90m━━━━━━━━━━━━━━━━━━━━━━━━━━━━━━━━━━━━━━━━\u001b[0m \u001b[32m11.6/11.6 MB\u001b[0m \u001b[31m28.8 MB/s\u001b[0m eta \u001b[36m0:00:00\u001b[0m00:01\u001b[0m0:01\u001b[0m\n",
      "\u001b[?25hDownloading contourpy-1.2.0-cp312-cp312-manylinux_2_17_x86_64.manylinux2014_x86_64.whl (303 kB)\n",
      "\u001b[2K   \u001b[90m━━━━━━━━━━━━━━━━━━━━━━━━━━━━━━━━━━━━━━━━\u001b[0m \u001b[32m303.9/303.9 kB\u001b[0m \u001b[31m6.8 MB/s\u001b[0m eta \u001b[36m0:00:00\u001b[0m:00:01\u001b[0m\n",
      "\u001b[?25hDownloading cycler-0.12.1-py3-none-any.whl (8.3 kB)\n",
      "Downloading fonttools-4.44.0-cp312-cp312-manylinux_2_5_x86_64.manylinux1_x86_64.manylinux_2_17_x86_64.manylinux2014_x86_64.whl (4.8 MB)\n",
      "\u001b[2K   \u001b[90m━━━━━━━━━━━━━━━━━━━━━━━━━━━━━━━━━━━━━━━━\u001b[0m \u001b[32m4.8/4.8 MB\u001b[0m \u001b[31m17.8 MB/s\u001b[0m eta \u001b[36m0:00:00\u001b[0m00:01\u001b[0m00:01\u001b[0m\n",
      "\u001b[?25hDownloading kiwisolver-1.4.5-cp312-cp312-manylinux_2_17_x86_64.manylinux2014_x86_64.whl (1.5 MB)\n",
      "\u001b[2K   \u001b[90m━━━━━━━━━━━━━━━━━━━━━━━━━━━━━━━━━━━━━━━━\u001b[0m \u001b[32m1.5/1.5 MB\u001b[0m \u001b[31m10.3 MB/s\u001b[0m eta \u001b[36m0:00:00\u001b[0m00:01\u001b[0m00:01\u001b[0m\n",
      "\u001b[?25hDownloading pyparsing-3.1.1-py3-none-any.whl (103 kB)\n",
      "\u001b[2K   \u001b[90m━━━━━━━━━━━━━━━━━━━━━━━━━━━━━━━━━━━━━━━━\u001b[0m \u001b[32m103.1/103.1 kB\u001b[0m \u001b[31m2.1 MB/s\u001b[0m eta \u001b[36m0:00:00\u001b[0m:00:01\u001b[0m\n",
      "\u001b[?25hInstalling collected packages: pyparsing, kiwisolver, fonttools, cycler, contourpy, matplotlib\n",
      "Successfully installed contourpy-1.2.0 cycler-0.12.1 fonttools-4.44.0 kiwisolver-1.4.5 matplotlib-3.8.1 pyparsing-3.1.1\n"
     ]
    }
   ],
   "source": [
    "!pip install matplotlib"
   ]
  },
  {
   "cell_type": "code",
   "execution_count": 97,
   "metadata": {},
   "outputs": [
    {
     "name": "stdout",
     "output_type": "stream",
     "text": [
      "183\n"
     ]
    },
    {
     "data": {
      "text/plain": [
       "<matplotlib.legend.Legend at 0x7f9843ff0cb0>"
      ]
     },
     "execution_count": 97,
     "metadata": {},
     "output_type": "execute_result"
    },
    {
     "data": {
      "image/png": "[encoded data removed]",
      "text/plain": [
       "<Figure size 1500x500 with 1 Axes>"
      ]
     },
     "metadata": {},
     "output_type": "display_data"
    }
   ],
   "source": [
    "import matplotlib.pyplot as plt\n",
    "tokenizer = GPT2Tokenizer.from_pretrained(\"gpt2\")\n",
    "data = []\n",
    "for i in range(len(df)):\n",
    "    data.append(\n",
    "        {\n",
    "            \"Q_tokens\" : len(tokenizer(df['question'][i])['input_ids']),\n",
    "            \"A_tokens\" : len(tokenizer(eval(df['answer'][i])['text'][0])['input_ids'])\n",
    "        }\n",
    "    )\n",
    "df_tokens = pd.DataFrame(data)\n",
    "print(len(df_tokens.query(\"Q_tokens >= 24 and Q_tokens <= 26\")))\n",
    "df_tokens.plot(kind=\"hist\",\n",
    "               bins=100,\n",
    "            #    edgecolor=\"white\",\n",
    "               alpha=0.65,\n",
    "               figsize=(15, 5))\n",
    "plt.xlabel('Numero de Tokens')\n",
    "plt.ylabel('Values')\n",
    "plt.xticks(range(0, 250, 10))\n",
    "plt.title(\"Questions tokens size (Q) vs Answers tokens size (A)\")\n",
    "plt.legend()\n",
    "# print()\n"
   ]
  },
  {
   "cell_type": "markdown",
   "metadata": {},
   "source": [
    "# Compute metrics"
   ]
  },
  {
   "cell_type": "markdown",
   "metadata": {},
   "source": [
    "UVQuAD"
   ]
  },
  {
   "cell_type": "code",
   "execution_count": 29,
   "metadata": {},
   "outputs": [
    {
     "data": {
      "text/plain": [
       "{'text': ['13/07/2023'], 'answer_start': []}"
      ]
     },
     "execution_count": 29,
     "metadata": {},
     "output_type": "execute_result"
    }
   ],
   "source": [
    "import pandas as pd\n",
    "from unidecode import unidecode\n",
    "# Dataset of grand truth\n",
    "UVQuAD = pd.read_csv('../data/processed/UVQuAD.csv')\n",
    "UVQuAD[\"answer\"] = UVQuAD[\"answer\"].apply(lambda x: eval(x))        # Mudanza de tipo no dado da coluna answer.\n",
    "UVQuAD.reset_index(inplace=True)                                    # Medanza de index\n",
    "\n",
    "UVQuAD.columns = [\"id\", \"title\", \"context\", \"question\", \"answers\"]   # Renomear colunas\n",
    "UVQuAD[\"id\"] = UVQuAD[\"id\"].apply(lambda x: str(x))\n",
    "UVQuAD[\"answers\"] = UVQuAD[\"answers\"].apply(lambda x: {\"text\":[unidecode(i) for i in x[\"text\"]], \"answer_start\":x[\"answer_start\"]})\n",
    "UVQuAD[\"answers\"][0]"
   ]
  },
  {
   "cell_type": "markdown",
   "metadata": {},
   "source": [
    "chatGPT preditions"
   ]
  },
  {
   "cell_type": "code",
   "execution_count": 30,
   "metadata": {},
   "outputs": [],
   "source": [
    "# Dataset of predictions\n",
    "chatGPT_predictions = pd.read_csv('../data/processed/ChatGPT_predictions.csv')\n",
    "chatGPT_predictions[\"id\"] = chatGPT_predictions[\"id\"].apply(lambda x: str(x))\n",
    "chatGPT_predictions[\"prediction_text\"] = chatGPT_predictions[\"prediction_text\"].apply(lambda x: unidecode(x))"
   ]
  },
  {
   "cell_type": "markdown",
   "metadata": {},
   "source": [
    "MariTalk predictions"
   ]
  },
  {
   "cell_type": "code",
   "execution_count": 31,
   "metadata": {},
   "outputs": [],
   "source": [
    "mariTalk_predictions = pd.read_csv('../data/processed/MariTalk_predictions.csv')\n",
    "mariTalk_predictions[\"id\"] = mariTalk_predictions[\"id\"].apply(lambda x: str(x))\n",
    "mariTalk_predictions[\"prediction_text\"] = mariTalk_predictions[\"prediction_text\"].apply(lambda x: unidecode(x) if type(x) is not float else x)"
   ]
  },
  {
   "cell_type": "markdown",
   "metadata": {},
   "source": [
    "## ChatGPT metrics"
   ]
  },
  {
   "cell_type": "code",
   "execution_count": 4,
   "metadata": {},
   "outputs": [
    {
     "data": {
      "text/plain": [
       "{'id': '0',\n",
       " 'prediction_text': 'A Resolucao Vestibular Unicamp 2024 foi publicada em 13/07/2023.'}"
      ]
     },
     "execution_count": 4,
     "metadata": {},
     "output_type": "execute_result"
    }
   ],
   "source": [
    "references = UVQuAD[[\"id\", \"answers\"]].to_dict(orient='records')\n",
    "predictions = chatGPT_predictions.to_dict(orient='records')\n",
    "predictions[0]"
   ]
  },
  {
   "cell_type": "code",
   "execution_count": 5,
   "metadata": {},
   "outputs": [
    {
     "data": {
      "text/plain": [
       "(1270, 1270)"
      ]
     },
     "execution_count": 5,
     "metadata": {},
     "output_type": "execute_result"
    }
   ],
   "source": [
    "len(references), len(predictions)"
   ]
  },
  {
   "cell_type": "markdown",
   "metadata": {},
   "source": [
    "### EM and F1 score"
   ]
  },
  {
   "cell_type": "code",
   "execution_count": 6,
   "metadata": {},
   "outputs": [
    {
     "name": "stderr",
     "output_type": "stream",
     "text": [
      "/home/wladimir.carrillo/miniconda3/envs/chatbotenv/lib/python3.12/site-packages/tqdm/auto.py:21: TqdmWarning: IProgress not found. Please update jupyter and ipywidgets. See https://ipywidgets.readthedocs.io/en/stable/user_install.html\n",
      "  from .autonotebook import tqdm as notebook_tqdm\n",
      "None of PyTorch, TensorFlow >= 2.0, or Flax have been found. Models won't be available and only tokenizers, configuration and file/data utilities can be used.\n"
     ]
    },
    {
     "data": {
      "text/plain": [
       "{'exact_match': 3.0708661417322833, 'f1': 49.81529279617546}"
      ]
     },
     "execution_count": 6,
     "metadata": {},
     "output_type": "execute_result"
    }
   ],
   "source": [
    "from evaluate import load\n",
    "squad_metric = load(\"squad\")\n",
    "# predictions = [{'prediction_text': '1976', 'id': '56e10a3be3433e1400422b22'}, {'prediction_text': 'Beyonce', 'id': '56d2051ce7d4791d0090260b'},  {'prediction_text': 'climate change', 'id': '5733b5344776f419006610e1'}]\n",
    "\n",
    "results = squad_metric.compute(predictions=predictions, references=references)\n",
    "results"
   ]
  },
  {
   "cell_type": "code",
   "execution_count": 7,
   "metadata": {},
   "outputs": [
    {
     "name": "stdout",
     "output_type": "stream",
     "text": [
      "Result N20: {'exact_match': 0.0, 'f1': 35.71428571428571}\n",
      "Result N41: {'exact_match': 0.0, 'f1': 38.46153846153847}\n",
      "Result N62: {'exact_match': 0.0, 'f1': 37.68115942028986}\n",
      "Result N83: {'exact_match': 0.0, 'f1': 83.72093023255815}\n",
      "Result N104: {'exact_match': 0.0, 'f1': 65.3061224489796}\n",
      "Result N125: {'exact_match': 0.0, 'f1': 34.666666666666664}\n",
      "Result N146: {'exact_match': 0.0, 'f1': 44.44444444444444}\n",
      "Result N167: {'exact_match': 0.0, 'f1': 46.666666666666664}\n",
      "Result N188: {'exact_match': 0.0, 'f1': 33.84615384615385}\n",
      "Result N209: {'exact_match': 100.0, 'f1': 100.0}\n",
      "Result N230: {'exact_match': 0.0, 'f1': 24.324324324324326}\n",
      "Result N251: {'exact_match': 0.0, 'f1': 35.29411764705882}\n",
      "Result N272: {'exact_match': 0.0, 'f1': 45.09803921568628}\n",
      "Result N293: {'exact_match': 0.0, 'f1': 33.84615384615385}\n",
      "Result N314: {'exact_match': 0.0, 'f1': 66.66666666666666}\n",
      "Result N335: {'exact_match': 0.0, 'f1': 91.35802469135803}\n",
      "Result N356: {'exact_match': 0.0, 'f1': 52.459016393442624}\n",
      "Result N377: {'exact_match': 0.0, 'f1': 70.27027027027027}\n",
      "Result N398: {'exact_match': 0.0, 'f1': 59.09090909090909}\n",
      "Result N419: {'exact_match': 0.0, 'f1': 81.6326530612245}\n",
      "Result N440: {'exact_match': 0.0, 'f1': 40.0}\n",
      "Result N461: {'exact_match': 0.0, 'f1': 37.83783783783784}\n",
      "Result N482: {'exact_match': 0.0, 'f1': 29.411764705882355}\n",
      "Result N503: {'exact_match': 0.0, 'f1': 35.29411764705882}\n",
      "Result N524: {'exact_match': 0.0, 'f1': 30.0}\n",
      "Result N545: {'exact_match': 0.0, 'f1': 27.77777777777778}\n",
      "Result N566: {'exact_match': 0.0, 'f1': 32.83582089552238}\n",
      "Result N587: {'exact_match': 0.0, 'f1': 33.84615384615385}\n",
      "Result N608: {'exact_match': 0.0, 'f1': 35.82089552238806}\n",
      "Result N629: {'exact_match': 0.0, 'f1': 74.07407407407408}\n",
      "Result N650: {'exact_match': 0.0, 'f1': 28.98550724637682}\n",
      "Result N671: {'exact_match': 0.0, 'f1': 22.950819672131146}\n",
      "Result N692: {'exact_match': 0.0, 'f1': 48.421052631578945}\n",
      "Result N713: {'exact_match': 0.0, 'f1': 27.160493827160494}\n",
      "Result N734: {'exact_match': 0.0, 'f1': 30.76923076923077}\n",
      "Result N755: {'exact_match': 0.0, 'f1': 57.14285714285714}\n",
      "Result N776: {'exact_match': 0.0, 'f1': 32.87671232876713}\n",
      "Result N797: {'exact_match': 0.0, 'f1': 42.10526315789473}\n",
      "Result N818: {'exact_match': 0.0, 'f1': 35.8974358974359}\n",
      "Result N839: {'exact_match': 0.0, 'f1': 60.86956521739131}\n",
      "Result N860: {'exact_match': 0.0, 'f1': 34.61538461538461}\n",
      "Result N881: {'exact_match': 0.0, 'f1': 34.78260869565217}\n",
      "Result N902: {'exact_match': 100.0, 'f1': 100.0}\n",
      "Result N923: {'exact_match': 0.0, 'f1': 38.46153846153846}\n",
      "Result N944: {'exact_match': 0.0, 'f1': 69.38775510204081}\n",
      "Result N965: {'exact_match': 0.0, 'f1': 37.83783783783783}\n",
      "Result N986: {'exact_match': 0.0, 'f1': 56.41025641025641}\n",
      "Result N1007: {'exact_match': 0.0, 'f1': 32.00000000000001}\n",
      "Result N1028: {'exact_match': 0.0, 'f1': 76.1904761904762}\n",
      "Result N1049: {'exact_match': 0.0, 'f1': 70.88607594936708}\n",
      "Result N1070: {'exact_match': 0.0, 'f1': 71.42857142857143}\n",
      "Result N1091: {'exact_match': 0.0, 'f1': 27.777777777777775}\n",
      "Result N1112: {'exact_match': 0.0, 'f1': 53.333333333333336}\n",
      "Result N1133: {'exact_match': 0.0, 'f1': 57.14285714285714}\n",
      "Result N1154: {'exact_match': 0.0, 'f1': 64.0}\n",
      "Result N1175: {'exact_match': 100.0, 'f1': 100.0}\n",
      "Result N1196: {'exact_match': 100.0, 'f1': 100.0}\n",
      "Result N1217: {'exact_match': 0.0, 'f1': 90.0}\n",
      "Result N1238: {'exact_match': 0.0, 'f1': 83.72093023255813}\n",
      "Result N1259: {'exact_match': 0.0, 'f1': 65.3061224489796}\n"
     ]
    }
   ],
   "source": [
    "results_data = []\n",
    "cont = 0\n",
    "df_results = pd.DataFrame()\n",
    "for i in range(len(predictions)):\n",
    "    results = squad_metric.compute(predictions=[predictions[i]], references=[references[i]])\n",
    "    results_data.append(results)\n",
    "    df_results = pd.DataFrame(results_data)\n",
    "    if cont == 20:\n",
    "        cont = 0\n",
    "        print(f\"Result N{i}: {results}\")\n",
    "    else:\n",
    "        cont += 1\n",
    "df_results.to_csv('results/gpt_em-f1.csv', index=True)"
   ]
  },
  {
   "cell_type": "code",
   "execution_count": 8,
   "metadata": {},
   "outputs": [
    {
     "data": {
      "text/plain": [
       "<Axes: title={'center': 'ME vs F1 score for ChatGPT predictions'}, ylabel='Frequency'>"
      ]
     },
     "execution_count": 8,
     "metadata": {},
     "output_type": "execute_result"
    },
    {
     "data": {
      "image/png": "[encoded data removed]",
      "text/plain": [
       "<Figure size 1000x1000 with 1 Axes>"
      ]
     },
     "metadata": {},
     "output_type": "display_data"
    }
   ],
   "source": [
    "df_results.plot(kind=\"hist\",bins=20, alpha=0.65, figsize=(10, 10), title=\"ME vs F1 score for ChatGPT predictions\")"
   ]
  },
  {
   "cell_type": "markdown",
   "metadata": {},
   "source": [
    "### WER on ChatGPT"
   ]
  },
  {
   "cell_type": "code",
   "execution_count": 9,
   "metadata": {},
   "outputs": [
    {
     "data": {
      "text/plain": [
       "({'id': '0',\n",
       "  'prediction_text': 'A Resolucao Vestibular Unicamp 2024 foi publicada em 13/07/2023.'},\n",
       " {'id': '0', 'answers': {'text': ['13/07/2023'], 'answer_start': []}})"
      ]
     },
     "execution_count": 9,
     "metadata": {},
     "output_type": "execute_result"
    }
   ],
   "source": [
    "predictions[0], references[0]"
   ]
  },
  {
   "cell_type": "code",
   "execution_count": 10,
   "metadata": {},
   "outputs": [
    {
     "data": {
      "text/plain": [
       "('O Reitor em exercicio da Universidade Estadual de Campinas e Maria Luiza Moretti.',\n",
       " 'Maria Luiza Moretti')"
      ]
     },
     "execution_count": 10,
     "metadata": {},
     "output_type": "execute_result"
    }
   ],
   "source": [
    "new_predictions = [i[\"prediction_text\"] for i in predictions]\n",
    "new_references = [i[\"answers\"][\"text\"][0] for i in references]\n",
    "new_predictions[1], new_references[1]"
   ]
  },
  {
   "cell_type": "code",
   "execution_count": 11,
   "metadata": {},
   "outputs": [
    {
     "name": "stdout",
     "output_type": "stream",
     "text": [
      "1.644359464627151\n"
     ]
    }
   ],
   "source": [
    "from evaluate import load\n",
    "wer = load(\"wer\")\n",
    "wer_score = wer.compute(predictions=new_predictions, references=new_references)\n",
    "print(wer_score)"
   ]
  },
  {
   "cell_type": "code",
   "execution_count": 12,
   "metadata": {},
   "outputs": [
    {
     "name": "stdout",
     "output_type": "stream",
     "text": [
      "Result N20: 3.0\n",
      "Result N41: 1.9130434782608696\n",
      "Result N62: 2.0526315789473686\n",
      "Result N83: 0.9411764705882353\n",
      "Result N104: 1.375\n",
      "Result N125: 3.375\n",
      "Result N146: 2.357142857142857\n",
      "Result N167: 1.7647058823529411\n",
      "Result N188: 2.5625\n",
      "Result N209: 0.08333333333333333\n",
      "Result N230: 3.235294117647059\n",
      "Result N251: 1.2380952380952381\n",
      "Result N272: 1.3333333333333333\n",
      "Result N293: 4.0\n",
      "Result N314: 1.3214285714285714\n",
      "Result N335: 0.2\n",
      "Result N356: 1.7647058823529411\n",
      "Result N377: 1.0\n",
      "Result N398: 1.4666666666666666\n",
      "Result N419: 0.44\n",
      "Result N440: 2.8823529411764706\n",
      "Result N461: 4.583333333333333\n",
      "Result N482: 4.545454545454546\n",
      "Result N503: 3.357142857142857\n",
      "Result N524: 3.909090909090909\n",
      "Result N545: 4.5\n",
      "Result N566: 4.083333333333333\n",
      "Result N587: 3.9166666666666665\n",
      "Result N608: 3.769230769230769\n",
      "Result N629: 0.6153846153846154\n",
      "Result N650: 3.533333333333333\n",
      "Result N671: 4.2727272727272725\n",
      "Result N692: 0.8070175438596491\n",
      "Result N713: 1.75\n",
      "Result N734: 1.225\n",
      "Result N755: 1.3888888888888888\n",
      "Result N776: 2.9375\n",
      "Result N797: 1.8461538461538463\n",
      "Result N818: 2.5\n",
      "Result N839: 0.8888888888888888\n",
      "Result N860: 0.7142857142857143\n",
      "Result N881: 3.357142857142857\n",
      "Result N902: 0.0\n",
      "Result N923: 2.2857142857142856\n",
      "Result N944: 1.0\n",
      "Result N965: 2.2857142857142856\n",
      "Result N986: 1.875\n",
      "Result N1007: 3.6\n",
      "Result N1028: 0.9166666666666666\n",
      "Result N1049: 0.875\n",
      "Result N1070: 0.9333333333333333\n",
      "Result N1091: 2.789473684210526\n",
      "Result N1112: 1.6842105263157894\n",
      "Result N1133: 1.2380952380952381\n",
      "Result N1154: 1.5294117647058822\n",
      "Result N1175: 0.0\n",
      "Result N1196: 0.0\n",
      "Result N1217: 0.09090909090909091\n",
      "Result N1238: 0.4444444444444444\n",
      "Result N1259: 1.2105263157894737\n"
     ]
    }
   ],
   "source": [
    "df_wer = pd.DataFrame()\n",
    "wer_data = []\n",
    "count = 0\n",
    "\n",
    "for i in range(len(new_predictions)):\n",
    "    wer_score = wer.compute(predictions=[new_predictions[i]], references=[new_references[i]])\n",
    "    wer_data.append({\"wer_score\":wer_score})\n",
    "    df_wer = pd.DataFrame(wer_data)\n",
    "    if count == 20:\n",
    "        count = 0\n",
    "        print(f\"Result N{i}: {wer_score}\")\n",
    "    else:\n",
    "        count += 1\n",
    "df_wer.to_csv('results/gpt_wer.csv', index=True)"
   ]
  },
  {
   "cell_type": "code",
   "execution_count": 13,
   "metadata": {},
   "outputs": [
    {
     "data": {
      "text/plain": [
       "<Axes: title={'center': 'WER for ChatGPT predictions'}, ylabel='Frequency'>"
      ]
     },
     "execution_count": 13,
     "metadata": {},
     "output_type": "execute_result"
    },
    {
     "data": {
      "image/png": "[encoded data removed]",
      "text/plain": [
       "<Figure size 1000x1000 with 1 Axes>"
      ]
     },
     "metadata": {},
     "output_type": "display_data"
    }
   ],
   "source": [
    "df_wer.plot(kind=\"hist\",bins=50, alpha=0.65, figsize=(10, 10), title=\"WER for ChatGPT predictions\")"
   ]
  },
  {
   "cell_type": "markdown",
   "metadata": {},
   "source": [
    "## MariTalk metrics"
   ]
  },
  {
   "cell_type": "code",
   "execution_count": 32,
   "metadata": {},
   "outputs": [
    {
     "data": {
      "text/plain": [
       "{'id': '0',\n",
       " 'prediction_text': 'A Resolucao Vestibular Unicamp 2024 foi publicada em 13 de julho de 2023.'}"
      ]
     },
     "execution_count": 32,
     "metadata": {},
     "output_type": "execute_result"
    }
   ],
   "source": [
    "references = UVQuAD[[\"id\", \"answers\"]].to_dict(orient='records')\n",
    "predictions = mariTalk_predictions.to_dict(orient='records')\n",
    "predictions[0]"
   ]
  },
  {
   "cell_type": "code",
   "execution_count": 33,
   "metadata": {},
   "outputs": [
    {
     "data": {
      "text/plain": [
       "(1270, 1270)"
      ]
     },
     "execution_count": 33,
     "metadata": {},
     "output_type": "execute_result"
    }
   ],
   "source": [
    "len(references), len(predictions)"
   ]
  },
  {
   "cell_type": "markdown",
   "metadata": {},
   "source": [
    "### EM and F1 score"
   ]
  },
  {
   "cell_type": "code",
   "execution_count": 34,
   "metadata": {},
   "outputs": [
    {
     "data": {
      "text/plain": [
       "{'exact_match': 4.094488188976378, 'f1': 37.27092615989766}"
      ]
     },
     "execution_count": 34,
     "metadata": {},
     "output_type": "execute_result"
    }
   ],
   "source": [
    "from evaluate import load\n",
    "squad_metric = load(\"squad\")\n",
    "# predictions = [{'prediction_text': '1976', 'id': '56e10a3be3433e1400422b22'}, {'prediction_text': 'Beyonce', 'id': '56d2051ce7d4791d0090260b'},  {'prediction_text': 'climate change', 'id': '5733b5344776f419006610e1'}]\n",
    "\n",
    "results = squad_metric.compute(predictions=predictions, references=references)\n",
    "results"
   ]
  },
  {
   "cell_type": "code",
   "execution_count": 35,
   "metadata": {},
   "outputs": [
    {
     "data": {
      "text/plain": [
       "{'id': '28', 'prediction_text': nan}"
      ]
     },
     "execution_count": 35,
     "metadata": {},
     "output_type": "execute_result"
    }
   ],
   "source": [
    "predictions[28]"
   ]
  },
  {
   "cell_type": "code",
   "execution_count": 36,
   "metadata": {},
   "outputs": [
    {
     "name": "stdout",
     "output_type": "stream",
     "text": [
      "Result N20: {'exact_match': 0.0, 'f1': 91.66666666666666}\n",
      "Result N41: {'exact_match': 0.0, 'f1': 39.21568627450981}\n",
      "Result N62: {'exact_match': 0.0, 'f1': 45.16129032258064}\n",
      "Result N83: {'exact_match': 0.0, 'f1': 22.857142857142858}\n",
      "Result N104: {'exact_match': 0.0, 'f1': 94.11764705882352}\n",
      "Result N125: {'exact_match': 0.0, 'f1': 59.45945945945946}\n",
      "Result N146: {'exact_match': 0.0, 'f1': 17.857142857142854}\n",
      "Result N167: {'exact_match': 0.0, 'f1': 21.875}\n",
      "Result N188: {'exact_match': 0.0, 'f1': 23.25581395348837}\n",
      "Result N209: {'exact_match': 0.0, 'f1': 20.0}\n",
      "Result N230: {'exact_match': 0.0, 'f1': 22.857142857142858}\n",
      "Result N251: {'exact_match': 0.0, 'f1': 50.000000000000014}\n",
      "Result N272: {'exact_match': 0.0, 'f1': 59.374999999999986}\n",
      "Result N293: {'exact_match': 0.0, 'f1': 88.8888888888889}\n",
      "Result N314: {'exact_match': 0.0, 'f1': 69.84126984126985}\n",
      "Result N335: {'exact_match': 0.0, 'f1': 51.85185185185186}\n",
      "Result N356: {'exact_match': 0.0, 'f1': 33.333333333333336}\n",
      "Result N377: {'exact_match': 0.0, 'f1': 24.56140350877193}\n",
      "Result N398: {'exact_match': 0.0, 'f1': 74.28571428571428}\n",
      "Result N419: {'exact_match': 0.0, 'f1': 56.33802816901409}\n",
      "Result N440: {'exact_match': 0.0, 'f1': 0.0}\n",
      "Result N461: {'exact_match': 0.0, 'f1': 20.0}\n",
      "Result N482: {'exact_match': 0.0, 'f1': 58.06451612903226}\n",
      "Result N503: {'exact_match': 0.0, 'f1': 0.0}\n",
      "Result N524: {'exact_match': 0.0, 'f1': 13.793103448275861}\n",
      "Result N545: {'exact_match': 0.0, 'f1': 15.384615384615385}\n",
      "Result N566: {'exact_match': 0.0, 'f1': 39.13043478260869}\n",
      "Result N587: {'exact_match': 0.0, 'f1': 27.27272727272727}\n",
      "Result N608: {'exact_match': 0.0, 'f1': 0.0}\n",
      "Result N629: {'exact_match': 0.0, 'f1': 0.0}\n",
      "Result N650: {'exact_match': 0.0, 'f1': 17.64705882352941}\n",
      "Result N671: {'exact_match': 0.0, 'f1': 0.0}\n",
      "Result N692: {'exact_match': 0.0, 'f1': 0.0}\n",
      "Result N713: {'exact_match': 0.0, 'f1': 38.35616438356164}\n",
      "Result N734: {'exact_match': 0.0, 'f1': 5.714285714285714}\n",
      "Result N755: {'exact_match': 0.0, 'f1': 46.51162790697674}\n",
      "Result N776: {'exact_match': 0.0, 'f1': 0.0}\n",
      "Result N797: {'exact_match': 0.0, 'f1': 44.44444444444444}\n",
      "Result N818: {'exact_match': 0.0, 'f1': 14.285714285714288}\n",
      "Result N839: {'exact_match': 0.0, 'f1': 90.0}\n",
      "Result N860: {'exact_match': 0.0, 'f1': 21.91780821917808}\n",
      "Result N881: {'exact_match': 0.0, 'f1': 25.000000000000007}\n",
      "Result N902: {'exact_match': 100.0, 'f1': 100.0}\n",
      "Result N923: {'exact_match': 0.0, 'f1': 27.27272727272727}\n",
      "Result N944: {'exact_match': 0.0, 'f1': 69.38775510204081}\n",
      "Result N965: {'exact_match': 0.0, 'f1': 38.0952380952381}\n",
      "Result N986: {'exact_match': 0.0, 'f1': 41.791044776119406}\n",
      "Result N1007: {'exact_match': 0.0, 'f1': 57.14285714285714}\n",
      "Result N1028: {'exact_match': 0.0, 'f1': 19.672131147540984}\n",
      "Result N1049: {'exact_match': 0.0, 'f1': 0.0}\n",
      "Result N1070: {'exact_match': 100.0, 'f1': 100.0}\n",
      "Result N1091: {'exact_match': 0.0, 'f1': 50.847457627118644}\n",
      "Result N1112: {'exact_match': 0.0, 'f1': 46.87500000000001}\n",
      "Result N1133: {'exact_match': 0.0, 'f1': 32.91139240506329}\n",
      "Result N1154: {'exact_match': 0.0, 'f1': 13.559322033898308}\n",
      "Result N1175: {'exact_match': 0.0, 'f1': 20.689655172413797}\n",
      "Result N1196: {'exact_match': 100.0, 'f1': 100.0}\n",
      "Result N1217: {'exact_match': 0.0, 'f1': 3.278688524590164}\n",
      "Result N1238: {'exact_match': 0.0, 'f1': 26.47058823529412}\n",
      "Result N1259: {'exact_match': 0.0, 'f1': 30.76923076923077}\n"
     ]
    }
   ],
   "source": [
    "results_data = []\n",
    "cont = 0\n",
    "df_results = pd.DataFrame()\n",
    "for i in range(len(predictions)):\n",
    "    if type(predictions[i][\"prediction_text\"]) is not float:\n",
    "        results = squad_metric.compute(predictions=[predictions[i]], references=[references[i]])\n",
    "    else:\n",
    "        results = {'exact_match': 0.0, 'f1': 0.0}\n",
    "    results_data.append(results)\n",
    "    df_results = pd.DataFrame(results_data)\n",
    "    if cont == 20:\n",
    "        cont = 0\n",
    "        print(f\"Result N{i}: {results}\")\n",
    "    else:\n",
    "        cont += 1\n",
    "df_results.to_csv('results/mari_em-f1.csv', index=True)"
   ]
  },
  {
   "cell_type": "code",
   "execution_count": 19,
   "metadata": {},
   "outputs": [
    {
     "data": {
      "text/plain": [
       "<Axes: title={'center': 'ME vs F1 score for MariTalk predictions'}, ylabel='Frequency'>"
      ]
     },
     "execution_count": 19,
     "metadata": {},
     "output_type": "execute_result"
    },
    {
     "data": {
      "image/png": "[encoded data removed]",
      "text/plain": [
       "<Figure size 1000x1000 with 1 Axes>"
      ]
     },
     "metadata": {},
     "output_type": "display_data"
    }
   ],
   "source": [
    "df_results.plot(kind=\"hist\",bins=20, alpha=0.65, figsize=(10, 10), title= \"ME vs F1 score for MariTalk predictions\")"
   ]
  },
  {
   "cell_type": "markdown",
   "metadata": {},
   "source": [
    "### WER on MariTalk"
   ]
  },
  {
   "cell_type": "code",
   "execution_count": 20,
   "metadata": {},
   "outputs": [
    {
     "data": {
      "text/plain": [
       "({'id': '0',\n",
       "  'prediction_text': 'A Resolucao Vestibular Unicamp 2024 foi publicada em 13 de julho de 2023.'},\n",
       " {'id': '0', 'answers': {'text': ['13/07/2023'], 'answer_start': []}})"
      ]
     },
     "execution_count": 20,
     "metadata": {},
     "output_type": "execute_result"
    }
   ],
   "source": [
    "predictions[0], references[0]"
   ]
  },
  {
   "cell_type": "code",
   "execution_count": 21,
   "metadata": {},
   "outputs": [
    {
     "data": {
      "text/plain": [
       "('Maria Luiza Moretti e a Reitora em exercicio da Universidade Estadual de Campinas.',\n",
       " 'Maria Luiza Moretti')"
      ]
     },
     "execution_count": 21,
     "metadata": {},
     "output_type": "execute_result"
    }
   ],
   "source": [
    "new_predictions = [i[\"prediction_text\"] for i in predictions]\n",
    "new_references = [i[\"answers\"][\"text\"][0] for i in references]\n",
    "new_predictions[1], new_references[1]"
   ]
  },
  {
   "cell_type": "code",
   "execution_count": 22,
   "metadata": {},
   "outputs": [
    {
     "name": "stdout",
     "output_type": "stream",
     "text": [
      "1.3227065204666952\n"
     ]
    }
   ],
   "source": [
    "from evaluate import load\n",
    "wer = load(\"wer\")\n",
    "wer_score = wer.compute(predictions=new_predictions, references=new_references)\n",
    "print(wer_score)"
   ]
  },
  {
   "cell_type": "code",
   "execution_count": 23,
   "metadata": {},
   "outputs": [
    {
     "name": "stdout",
     "output_type": "stream",
     "text": [
      "Result N20: 0.16666666666666666\n",
      "Result N41: 0.782608695652174\n",
      "Result N62: 1.736842105263158\n",
      "Result N83: 0.9411764705882353\n",
      "Result N104: 0.25\n",
      "Result N125: 1.125\n",
      "Result N146: 3.142857142857143\n",
      "Result N167: 2.2941176470588234\n",
      "Result N188: 1.6875\n",
      "Result N209: 4.5\n",
      "Result N230: 3.1176470588235294\n",
      "Result N251: 0.7142857142857143\n",
      "Result N272: 0.7435897435897436\n",
      "Result N293: 0.25\n",
      "Result N314: 0.5\n",
      "Result N335: 0.625\n",
      "Result N356: 1.0\n",
      "Result N377: 1.0\n",
      "Result N398: 0.6666666666666666\n",
      "Result N419: 1.44\n",
      "Result N440: 1.0\n",
      "Result N461: 3.5833333333333335\n",
      "Result N482: 1.0909090909090908\n",
      "Result N503: 1.0\n",
      "Result N524: 4.181818181818182\n",
      "Result N545: 1.0\n",
      "Result N566: 2.75\n",
      "Result N587: 3.25\n",
      "Result N608: 1.0\n",
      "Result N629: 1.0\n",
      "Result N650: 1.3333333333333333\n",
      "Result N671: 1.0\n",
      "Result N692: 1.0\n",
      "Result N713: 1.7142857142857142\n",
      "Result N734: 0.975\n",
      "Result N755: 1.3055555555555556\n",
      "Result N776: 1.0\n",
      "Result N797: 1.0\n",
      "Result N818: 2.3\n",
      "Result N839: 0.3333333333333333\n",
      "Result N860: 1.6428571428571428\n",
      "Result N881: 2.9285714285714284\n",
      "Result N902: 0.0\n",
      "Result N923: 1.1904761904761905\n",
      "Result N944: 1.1875\n",
      "Result N965: 1.0952380952380953\n",
      "Result N986: 1.625\n",
      "Result N1007: 1.3\n",
      "Result N1028: 4.166666666666667\n",
      "Result N1049: 1.0\n",
      "Result N1070: 0.0\n",
      "Result N1091: 1.5789473684210527\n",
      "Result N1112: 1.9473684210526316\n",
      "Result N1133: 1.9523809523809523\n",
      "Result N1154: 2.6470588235294117\n",
      "Result N1175: 2.7857142857142856\n",
      "Result N1196: 0.0\n",
      "Result N1217: 4.636363636363637\n",
      "Result N1238: 2.5\n",
      "Result N1259: 0.9473684210526315\n"
     ]
    }
   ],
   "source": [
    "df_wer = pd.DataFrame()\n",
    "wer_data = []\n",
    "count = 0\n",
    "\n",
    "for i in range(len(new_predictions)):\n",
    "    if type(predictions[i][\"prediction_text\"]) is not float:\n",
    "        wer_score = wer.compute(predictions=[new_predictions[i]], references=[new_references[i]])\n",
    "    else:\n",
    "        wer_score = 0.0\n",
    "    wer_data.append({\"wer\":wer_score})\n",
    "    df_wer = pd.DataFrame(wer_data)\n",
    "    if count == 20:\n",
    "        count = 0\n",
    "        print(f\"Result N{i}: {wer_score}\")\n",
    "    else:\n",
    "        count += 1\n",
    "df_wer.to_csv('results/mari_wer.csv', index=True)"
   ]
  },
  {
   "cell_type": "code",
   "execution_count": 24,
   "metadata": {},
   "outputs": [
    {
     "data": {
      "text/plain": [
       "<Axes: title={'center': 'WER for MariTalk predictions'}, ylabel='Frequency'>"
      ]
     },
     "execution_count": 24,
     "metadata": {},
     "output_type": "execute_result"
    },
    {
     "data": {
      "image/png": "[encoded data removed]",
      "text/plain": [
       "<Figure size 1000x1000 with 1 Axes>"
      ]
     },
     "metadata": {},
     "output_type": "display_data"
    }
   ],
   "source": [
    "df_wer.plot(kind=\"hist\",bins=50, alpha=0.65, figsize=(10, 10), title=\"WER for MariTalk predictions\")"
   ]
  },
  {
   "cell_type": "markdown",
   "metadata": {},
   "source": [
    "Tabela de resultados"
   ]
  },
  {
   "cell_type": "code",
   "execution_count": 25,
   "metadata": {},
   "outputs": [],
   "source": [
    "import pandas as pd\n",
    "\n",
    "UVQuAD = pd.read_csv('../data/processed/UVQuAD.csv')\n",
    "chatGPT_predictions = pd.read_csv('../data/processed/ChatGPT_predictions.csv')\n",
    "mariTalk_predictions = pd.read_csv('../data/processed/MariTalk_predictions.csv')\n",
    "\n",
    "gpt_em_f1 = pd.read_csv('results/gpt_em-f1.csv')\n",
    "gpt_wer = pd.read_csv('results/gpt_wer.csv')\n",
    "mari_em_f1 = pd.read_csv('results/mari_em-f1.csv')\n",
    "mari_wer = pd.read_csv('results/mari_wer.csv')"
   ]
  },
  {
   "cell_type": "code",
   "execution_count": 26,
   "metadata": {},
   "outputs": [
    {
     "data": {
      "text/plain": [
       "(      Unnamed: 0  exact_match         f1\n",
       " 0              0          0.0   0.000000\n",
       " 1              1          0.0  40.000000\n",
       " 2              2          0.0  73.333333\n",
       " 3              3          0.0  50.000000\n",
       " 4              4          0.0  73.469388\n",
       " ...          ...          ...        ...\n",
       " 1265        1265          0.0   0.000000\n",
       " 1266        1266          0.0  47.826087\n",
       " 1267        1267          0.0  53.571429\n",
       " 1268        1268          0.0  35.087719\n",
       " 1269        1269          0.0  75.000000\n",
       " \n",
       " [1270 rows x 3 columns],\n",
       "       Unnamed: 0        wer\n",
       " 0              0  13.000000\n",
       " 1              1   3.333333\n",
       " 2              2   1.000000\n",
       " 3              3   2.000000\n",
       " 4              4   5.750000\n",
       " ...          ...        ...\n",
       " 1265        1265   1.000000\n",
       " 1266        1266   1.857143\n",
       " 1267        1267   0.857143\n",
       " 1268        1268   1.333333\n",
       " 1269        1269   0.416667\n",
       " \n",
       " [1270 rows x 2 columns])"
      ]
     },
     "execution_count": 26,
     "metadata": {},
     "output_type": "execute_result"
    }
   ],
   "source": [
    "\n",
    "mari_em_f1, mari_wer"
   ]
  },
  {
   "cell_type": "code",
   "execution_count": 27,
   "metadata": {},
   "outputs": [],
   "source": [
    "index = [83, 209, 440, 1154, 1217]"
   ]
  },
  {
   "cell_type": "code",
   "execution_count": 28,
   "metadata": {},
   "outputs": [
    {
     "name": "stderr",
     "output_type": "stream",
     "text": [
      "/tmp/ipykernel_979933/236141740.py:12: FutureWarning: Series.__getitem__ treating keys as positions is deprecated. In a future version, integer keys will always be treated as labels (consistent with DataFrame behavior). To access a value by position, use `ser.iloc[pos]`\n",
      "  data_gpt['score'] = data_gpt[['exact_match', 'f1', 'wer_score']].apply(lambda x: t.format(x[0], x[1], x[2]), axis=1)\n",
      "/tmp/ipykernel_979933/236141740.py:13: FutureWarning: Series.__getitem__ treating keys as positions is deprecated. In a future version, integer keys will always be treated as labels (consistent with DataFrame behavior). To access a value by position, use `ser.iloc[pos]`\n",
      "  data_mari['score'] = data_mari[['exact_match', 'f1', 'wer']].apply(lambda x: t.format(x[0], x[1], x[2]), axis=1)\n"
     ]
    }
   ],
   "source": [
    "data_gpt = pd.concat([UVQuAD['question'].iloc[index],\n",
    "                    chatGPT_predictions['prediction_text'].iloc[index],\n",
    "                    gpt_em_f1[['exact_match', 'f1']].iloc[index],\n",
    "                    gpt_wer['wer_score'].iloc[index]], axis=1)\n",
    "data_mari = pd.concat([mariTalk_predictions['prediction_text'].iloc[index],\n",
    "                    mari_em_f1[['exact_match', 'f1']].iloc[index],\n",
    "                    mari_wer['wer'].iloc[index]], axis=1)\n",
    "t = \"\"\"EM:  {},\n",
    "F1:  {},\n",
    "WER: {}\"\"\"\n",
    "\n",
    "data_gpt['score'] = data_gpt[['exact_match', 'f1', 'wer_score']].apply(lambda x: t.format(x[0], x[1], x[2]), axis=1)\n",
    "data_mari['score'] = data_mari[['exact_match', 'f1', 'wer']].apply(lambda x: t.format(x[0], x[1], x[2]), axis=1)\n",
    "\n",
    "results_data = pd.concat([data_gpt[['question', 'prediction_text', 'score']],\n",
    "                        data_mari[['prediction_text', 'score']]], axis=1)\n",
    "results_data.to_excel('results/results.xlsx', index=True)\n",
    "# data_gpt[['question', 'prediction_text', 'score']].to_excel('results/gpt.xlsx', index=False)"
   ]
  },
  {
   "cell_type": "code",
   "execution_count": null,
   "metadata": {},
   "outputs": [],
   "source": []
  }
 ],
 "metadata": {
  "kernelspec": {
   "display_name": "chatbotenv",
   "language": "python",
   "name": "python3"
  },
  "language_info": {
   "codemirror_mode": {
    "name": "ipython",
    "version": 3
   },
   "file_extension": ".py",
   "mimetype": "text/x-python",
   "name": "python",
   "nbconvert_exporter": "python",
   "pygments_lexer": "ipython3",
   "version": "3.12.0"
  }
 },
 "nbformat": 4,
 "nbformat_minor": 2
}
