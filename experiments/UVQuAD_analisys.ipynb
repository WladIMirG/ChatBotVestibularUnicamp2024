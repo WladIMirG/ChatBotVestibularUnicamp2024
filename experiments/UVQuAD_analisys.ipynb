{
 "cells": [
  {
   "cell_type": "code",
   "execution_count": 1,
   "metadata": {},
   "outputs": [
    {
     "data": {
      "text/html": [
       "<div>\n",
       "<style scoped>\n",
       "    .dataframe tbody tr th:only-of-type {\n",
       "        vertical-align: middle;\n",
       "    }\n",
       "\n",
       "    .dataframe tbody tr th {\n",
       "        vertical-align: top;\n",
       "    }\n",
       "\n",
       "    .dataframe thead th {\n",
       "        text-align: right;\n",
       "    }\n",
       "</style>\n",
       "<table border=\"1\" class=\"dataframe\">\n",
       "  <thead>\n",
       "    <tr style=\"text-align: right;\">\n",
       "      <th></th>\n",
       "      <th>title</th>\n",
       "      <th>context</th>\n",
       "      <th>question</th>\n",
       "      <th>answer</th>\n",
       "    </tr>\n",
       "  </thead>\n",
       "  <tbody>\n",
       "    <tr>\n",
       "      <th>0</th>\n",
       "      <td>titulo</td>\n",
       "      <td>Vestibular Unicamp 2024\\nResolução GR-031/2023...</td>\n",
       "      <td>Quando foi publicada a Resolução Vestibular Un...</td>\n",
       "      <td>{'text': ['13/07/2023'], 'answer_start': []}</td>\n",
       "    </tr>\n",
       "    <tr>\n",
       "      <th>1</th>\n",
       "      <td>titulo</td>\n",
       "      <td>Vestibular Unicamp 2024\\nResolução GR-031/2023...</td>\n",
       "      <td>Quem é o Reitor da Universidade Estadual de Ca...</td>\n",
       "      <td>{'text': ['Maria Luiza Moretti'], 'answer_star...</td>\n",
       "    </tr>\n",
       "    <tr>\n",
       "      <th>2</th>\n",
       "      <td>titulo</td>\n",
       "      <td>Vestibular Unicamp 2024\\nResolução GR-031/2023...</td>\n",
       "      <td>Qual é a finalidade da Resolução Vestibular Un...</td>\n",
       "      <td>{'text': ['Especificar os sistemas de ingresso...</td>\n",
       "    </tr>\n",
       "    <tr>\n",
       "      <th>3</th>\n",
       "      <td>Vagas e sistemas de ingresso à Graduação</td>\n",
       "      <td>Art. 1º Para o ano de 2024 são oferecidas 3340...</td>\n",
       "      <td>Quantas vagas regulares são oferecidas para in...</td>\n",
       "      <td>{'text': ['3340'], 'answer_start': []}</td>\n",
       "    </tr>\n",
       "    <tr>\n",
       "      <th>4</th>\n",
       "      <td>Vagas e sistemas de ingresso à Graduação</td>\n",
       "      <td>Art. 1º Para o ano de 2024 são oferecidas 3340...</td>\n",
       "      <td>Quais são os sistemas de ingresso para os curs...</td>\n",
       "      <td>{'text': ['Vestibular Unicamp (VU) 2024', 'Edi...</td>\n",
       "    </tr>\n",
       "  </tbody>\n",
       "</table>\n",
       "</div>"
      ],
      "text/plain": [
       "                                       title  \\\n",
       "0                                     titulo   \n",
       "1                                     titulo   \n",
       "2                                     titulo   \n",
       "3  Vagas e sistemas de ingresso à Graduação    \n",
       "4  Vagas e sistemas de ingresso à Graduação    \n",
       "\n",
       "                                             context  \\\n",
       "0  Vestibular Unicamp 2024\\nResolução GR-031/2023...   \n",
       "1  Vestibular Unicamp 2024\\nResolução GR-031/2023...   \n",
       "2  Vestibular Unicamp 2024\\nResolução GR-031/2023...   \n",
       "3  Art. 1º Para o ano de 2024 são oferecidas 3340...   \n",
       "4  Art. 1º Para o ano de 2024 são oferecidas 3340...   \n",
       "\n",
       "                                            question  \\\n",
       "0  Quando foi publicada a Resolução Vestibular Un...   \n",
       "1  Quem é o Reitor da Universidade Estadual de Ca...   \n",
       "2  Qual é a finalidade da Resolução Vestibular Un...   \n",
       "3  Quantas vagas regulares são oferecidas para in...   \n",
       "4  Quais são os sistemas de ingresso para os curs...   \n",
       "\n",
       "                                              answer  \n",
       "0       {'text': ['13/07/2023'], 'answer_start': []}  \n",
       "1  {'text': ['Maria Luiza Moretti'], 'answer_star...  \n",
       "2  {'text': ['Especificar os sistemas de ingresso...  \n",
       "3             {'text': ['3340'], 'answer_start': []}  \n",
       "4  {'text': ['Vestibular Unicamp (VU) 2024', 'Edi...  "
      ]
     },
     "execution_count": 1,
     "metadata": {},
     "output_type": "execute_result"
    }
   ],
   "source": [
    "from transformers import GPT2Tokenizer\n",
    "import pandas as pd\n",
    "\n",
    "df = pd.read_csv('UVQuAD.csv')\n",
    "df.head()"
   ]
  },
  {
   "cell_type": "code",
   "execution_count": 3,
   "metadata": {},
   "outputs": [
    {
     "name": "stdout",
     "output_type": "stream",
     "text": [
      "<class 'pandas.core.frame.DataFrame'>\n",
      "RangeIndex: 1270 entries, 0 to 1269\n",
      "Data columns (total 4 columns):\n",
      " #   Column    Non-Null Count  Dtype \n",
      "---  ------    --------------  ----- \n",
      " 0   title     1270 non-null   object\n",
      " 1   context   1270 non-null   object\n",
      " 2   question  1270 non-null   object\n",
      " 3   answer    1270 non-null   object\n",
      "dtypes: object(4)\n",
      "memory usage: 39.8+ KB\n"
     ]
    }
   ],
   "source": [
    "df.info()"
   ]
  },
  {
   "cell_type": "code",
   "execution_count": 39,
   "metadata": {},
   "outputs": [
    {
     "name": "stdout",
     "output_type": "stream",
     "text": [
      "Collecting matplotlib\n",
      "  Downloading matplotlib-3.8.1-cp312-cp312-manylinux_2_17_x86_64.manylinux2014_x86_64.whl.metadata (5.8 kB)\n",
      "Collecting contourpy>=1.0.1 (from matplotlib)\n",
      "  Downloading contourpy-1.2.0-cp312-cp312-manylinux_2_17_x86_64.manylinux2014_x86_64.whl.metadata (5.8 kB)\n",
      "Collecting cycler>=0.10 (from matplotlib)\n",
      "  Downloading cycler-0.12.1-py3-none-any.whl.metadata (3.8 kB)\n",
      "Collecting fonttools>=4.22.0 (from matplotlib)\n",
      "  Downloading fonttools-4.44.0-cp312-cp312-manylinux_2_5_x86_64.manylinux1_x86_64.manylinux_2_17_x86_64.manylinux2014_x86_64.whl.metadata (153 kB)\n",
      "\u001b[2K     \u001b[90m━━━━━━━━━━━━━━━━━━━━━━━━━━━━━━━━━━━━━━━\u001b[0m \u001b[32m153.6/153.6 kB\u001b[0m \u001b[31m3.1 MB/s\u001b[0m eta \u001b[36m0:00:00\u001b[0m00:01\u001b[0m\n",
      "\u001b[?25hCollecting kiwisolver>=1.3.1 (from matplotlib)\n",
      "  Downloading kiwisolver-1.4.5-cp312-cp312-manylinux_2_17_x86_64.manylinux2014_x86_64.whl.metadata (6.4 kB)\n",
      "Requirement already satisfied: numpy<2,>=1.21 in /home/wladimir.carrillo/miniconda3/envs/chatbotenv/lib/python3.12/site-packages (from matplotlib) (1.26.1)\n",
      "Requirement already satisfied: packaging>=20.0 in /home/wladimir.carrillo/miniconda3/envs/chatbotenv/lib/python3.12/site-packages (from matplotlib) (23.2)\n",
      "Requirement already satisfied: pillow>=8 in /home/wladimir.carrillo/miniconda3/envs/chatbotenv/lib/python3.12/site-packages (from matplotlib) (10.1.0)\n",
      "Collecting pyparsing>=2.3.1 (from matplotlib)\n",
      "  Downloading pyparsing-3.1.1-py3-none-any.whl.metadata (5.1 kB)\n",
      "Requirement already satisfied: python-dateutil>=2.7 in /home/wladimir.carrillo/miniconda3/envs/chatbotenv/lib/python3.12/site-packages (from matplotlib) (2.8.2)\n",
      "Requirement already satisfied: six>=1.5 in /home/wladimir.carrillo/miniconda3/envs/chatbotenv/lib/python3.12/site-packages (from python-dateutil>=2.7->matplotlib) (1.16.0)\n",
      "Downloading matplotlib-3.8.1-cp312-cp312-manylinux_2_17_x86_64.manylinux2014_x86_64.whl (11.6 MB)\n",
      "\u001b[2K   \u001b[90m━━━━━━━━━━━━━━━━━━━━━━━━━━━━━━━━━━━━━━━━\u001b[0m \u001b[32m11.6/11.6 MB\u001b[0m \u001b[31m28.8 MB/s\u001b[0m eta \u001b[36m0:00:00\u001b[0m00:01\u001b[0m0:01\u001b[0m\n",
      "\u001b[?25hDownloading contourpy-1.2.0-cp312-cp312-manylinux_2_17_x86_64.manylinux2014_x86_64.whl (303 kB)\n",
      "\u001b[2K   \u001b[90m━━━━━━━━━━━━━━━━━━━━━━━━━━━━━━━━━━━━━━━━\u001b[0m \u001b[32m303.9/303.9 kB\u001b[0m \u001b[31m6.8 MB/s\u001b[0m eta \u001b[36m0:00:00\u001b[0m:00:01\u001b[0m\n",
      "\u001b[?25hDownloading cycler-0.12.1-py3-none-any.whl (8.3 kB)\n",
      "Downloading fonttools-4.44.0-cp312-cp312-manylinux_2_5_x86_64.manylinux1_x86_64.manylinux_2_17_x86_64.manylinux2014_x86_64.whl (4.8 MB)\n",
      "\u001b[2K   \u001b[90m━━━━━━━━━━━━━━━━━━━━━━━━━━━━━━━━━━━━━━━━\u001b[0m \u001b[32m4.8/4.8 MB\u001b[0m \u001b[31m17.8 MB/s\u001b[0m eta \u001b[36m0:00:00\u001b[0m00:01\u001b[0m00:01\u001b[0m\n",
      "\u001b[?25hDownloading kiwisolver-1.4.5-cp312-cp312-manylinux_2_17_x86_64.manylinux2014_x86_64.whl (1.5 MB)\n",
      "\u001b[2K   \u001b[90m━━━━━━━━━━━━━━━━━━━━━━━━━━━━━━━━━━━━━━━━\u001b[0m \u001b[32m1.5/1.5 MB\u001b[0m \u001b[31m10.3 MB/s\u001b[0m eta \u001b[36m0:00:00\u001b[0m00:01\u001b[0m00:01\u001b[0m\n",
      "\u001b[?25hDownloading pyparsing-3.1.1-py3-none-any.whl (103 kB)\n",
      "\u001b[2K   \u001b[90m━━━━━━━━━━━━━━━━━━━━━━━━━━━━━━━━━━━━━━━━\u001b[0m \u001b[32m103.1/103.1 kB\u001b[0m \u001b[31m2.1 MB/s\u001b[0m eta \u001b[36m0:00:00\u001b[0m:00:01\u001b[0m\n",
      "\u001b[?25hInstalling collected packages: pyparsing, kiwisolver, fonttools, cycler, contourpy, matplotlib\n",
      "Successfully installed contourpy-1.2.0 cycler-0.12.1 fonttools-4.44.0 kiwisolver-1.4.5 matplotlib-3.8.1 pyparsing-3.1.1\n"
     ]
    }
   ],
   "source": [
    "!pip install matplotlib"
   ]
  },
  {
   "cell_type": "code",
   "execution_count": 97,
   "metadata": {},
   "outputs": [
    {
     "name": "stdout",
     "output_type": "stream",
     "text": [
      "183\n"
     ]
    },
    {
     "data": {
      "text/plain": [
       "<matplotlib.legend.Legend at 0x7f9843ff0cb0>"
      ]
     },
     "execution_count": 97,
     "metadata": {},
     "output_type": "execute_result"
    },
    {
     "data": {
      "image/png": "[encoded data removed]",
      "text/plain": [
       "<Figure size 1500x500 with 1 Axes>"
      ]
     },
     "metadata": {},
     "output_type": "display_data"
    }
   ],
   "source": [
    "import matplotlib.pyplot as plt\n",
    "tokenizer = GPT2Tokenizer.from_pretrained(\"gpt2\")\n",
    "data = []\n",
    "for i in range(len(df)):\n",
    "    data.append(\n",
    "        {\n",
    "            \"Q_tokens\" : len(tokenizer(df['question'][i])['input_ids']),\n",
    "            \"A_tokens\" : len(tokenizer(eval(df['answer'][i])['text'][0])['input_ids'])\n",
    "        }\n",
    "    )\n",
    "df_tokens = pd.DataFrame(data)\n",
    "print(len(df_tokens.query(\"Q_tokens >= 24 and Q_tokens <= 26\")))\n",
    "df_tokens.plot(kind=\"hist\",\n",
    "               bins=100,\n",
    "            #    edgecolor=\"white\",\n",
    "               alpha=0.65,\n",
    "               figsize=(15, 5))\n",
    "plt.xlabel('Numero de Tokens')\n",
    "plt.ylabel('Values')\n",
    "plt.xticks(range(0, 250, 10))\n",
    "plt.title(\"Questions tokens size (Q) vs Answers tokens size (A)\")\n",
    "plt.legend()\n",
    "# print()\n"
   ]
  },
  {
   "cell_type": "code",
   "execution_count": 19,
   "metadata": {},
   "outputs": [
    {
     "data": {
      "text/plain": [
       "1390"
      ]
     },
     "execution_count": 19,
     "metadata": {},
     "output_type": "execute_result"
    }
   ],
   "source": [
    "tokenizer(\"\"\"\n",
    "  \"\"perguntas\"\": {\n",
    "    \"\"p0\"\": \"\"Qual a diferença entre fórmulas moleculares, estruturais e de Lewis?\"\",\n",
    "    \"\"p1\"\": \"\"O que é isomeria e quais são seus tipos?\"\",\n",
    "    \"\"p2\"\": \"\"Quais são as funções orgânicas mais comuns e como reconhecê-las?\"\",\n",
    "    \"\"p3\"\": \"\"Quais são os compostos mais simples e representativos e suas propriedades?\"\"\n",
    "  },\n",
    "  \"\"respostas\"\": {\n",
    "    \"\"p0\"\": {\n",
    "      \"\"r0\"\": \"\"A fórmula molecular mostra a quantidade real de átomos em uma molécula. A fórmula estrutural mostra como os átomos estão ligados uns aos outros. A fórmula de Lewis mostra os elétrons de valência e as ligações entre os átomos.\"\",\n",
    "      \"\"r1\"\": \"\"A fórmula molecular mostra a quantidade real de átomos em uma molécula. A fórmula estrutural mostra como os átomos estão ligados uns aos outros. A fórmula de Lewis mostra os elétrons de valência e as ligações entre os átomos.\"\",\n",
    "      \"\"r2\"\": \"\"A fórmula molecular mostra a quantidade real de átomos em uma molécula. A fórmula estrutural mostra como os átomos estão ligados uns aos outros. A fórmula de Lewis mostra os elétrons de valência e as ligações entre os átomos.\"\"\n",
    "    },\n",
    "    \"\"p1\"\": {\n",
    "      \"\"r0\"\": \"\"Isomeria é a existência de compostos que possuem a mesma fórmula molecular, mas estruturas diferentes. Os principais tipos de isomeria são isomeria plana (cadeia, posição, função e tautomérica) e isomeria espacial (geométrica e óptica).\"\",\n",
    "      \"\"r1\"\": \"\"Isomeria é a existência de compostos que possuem a mesma fórmula molecular, mas estruturas diferentes. Os principais tipos de isomeria são isomeria plana (cadeia, posição, função e tautomérica) e isomeria espacial (geométrica e óptica).\"\",\n",
    "      \"\"r2\"\": \"\"Isomeria é a existência de compostos que possuem a mesma fórmula molecular, mas estruturas diferentes. Os principais tipos de isomeria são isomeria plana (cadeia, posição, função e tautomérica) e isomeria espacial (geométrica e óptica).\"\"\n",
    "    },\n",
    "    \"\"p2\"\": {\n",
    "      \"\"r0\"\": \"\"As funções orgânicas mais comuns são hidrocarbonetos, compostos halogenados, alcoóis, fenóis, éteres, aldeídos, cetonas, ácidos carboxílicos, aminas e amidas. Para reconhecê-las é preciso observar os grupos funcionais presentes nas moléculas.\"\",\n",
    "      \"\"r1\"\": \"\"As funções orgânicas mais comuns são hidrocarbonetos, compostos halogenados, alcoóis, fenóis, éteres, aldeídos, cetonas, ácidos carboxílicos, aminas e amidas. Para reconhecê-las é preciso observar os grupos funcionais presentes nas moléculas.\"\",\n",
    "      \"\"r2\"\": \"\"As funções orgânicas mais comuns são hidrocarbonetos, compostos halogenados, alcoóis, fenóis, éteres, aldeídos, cetonas, ácidos carboxílicos, aminas e amidas. Para reconhecê-las é preciso observar os grupos funcionais presentes nas moléculas.\"\"\n",
    "    },\n",
    "    \"\"p3\"\": {\n",
    "      \"\"r0\"\": \"\"Alguns exemplos de compostos simples e representativos são o metano, o etanol, o ácido acético e o acetona. Suas propriedades variam de acordo com seus grupos funcionais, como solubilidade em água, ponto de ebulição e acidez ou basicidade.\"\",\n",
    "      \"\"r1\"\": \"\"Alguns exemplos de compostos simples e representativos são o metano, o etanol, o ácido acético e o acetona. Suas propriedades variam de acordo com seus grupos funcionais, como solubilidade em água, ponto de ebulição e acidez ou basicidade.\"\",\n",
    "      \"\"r2\"\": \"\"Alguns exemplos de compostos simples e representativos são o metano, o etanol, o ácido acético e o acet\"\"\")[\"input_ids\"].__len__()"
   ]
  },
  {
   "cell_type": "code",
   "execution_count": null,
   "metadata": {},
   "outputs": [],
   "source": []
  },
  {
   "cell_type": "code",
   "execution_count": null,
   "metadata": {},
   "outputs": [],
   "source": []
  }
 ],
 "metadata": {
  "kernelspec": {
   "display_name": "chatbotenv",
   "language": "python",
   "name": "python3"
  },
  "language_info": {
   "codemirror_mode": {
    "name": "ipython",
    "version": 3
   },
   "file_extension": ".py",
   "mimetype": "text/x-python",
   "name": "python",
   "nbconvert_exporter": "python",
   "pygments_lexer": "ipython3",
   "version": "3.12.0"
  }
 },
 "nbformat": 4,
 "nbformat_minor": 2
}
